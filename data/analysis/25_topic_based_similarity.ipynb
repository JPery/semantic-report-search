{
 "cells": [
  {
   "cell_type": "markdown",
   "id": "501e416b",
   "metadata": {},
   "source": [
    "# Topic-Based Similarity between Report Views\n",
    "\n",
    "This notebook uses an unsupervised LDA model to extract topic distributions from report view descriptions and compute pairwise similarities using the **Jensen-Shannon distance**. This allows us to:\n",
    "- Represent each report view as a topic distribution vector.\n",
    "- Find the most thematically similar views for any given one.\n"
   ]
  },
  {
   "cell_type": "code",
   "execution_count": 1,
   "id": "3cb477b4",
   "metadata": {},
   "outputs": [
    {
     "data": {
      "text/html": [
       "<div>\n",
       "<style scoped>\n",
       "    .dataframe tbody tr th:only-of-type {\n",
       "        vertical-align: middle;\n",
       "    }\n",
       "\n",
       "    .dataframe tbody tr th {\n",
       "        vertical-align: top;\n",
       "    }\n",
       "\n",
       "    .dataframe thead th {\n",
       "        text-align: right;\n",
       "    }\n",
       "</style>\n",
       "<table border=\"1\" class=\"dataframe\">\n",
       "  <thead>\n",
       "    <tr style=\"text-align: right;\">\n",
       "      <th></th>\n",
       "      <th>ID Data Product</th>\n",
       "      <th>Report Name</th>\n",
       "      <th>Product Owner</th>\n",
       "      <th>PBIX_File</th>\n",
       "      <th>Report View</th>\n",
       "      <th>Description</th>\n",
       "      <th>Category</th>\n",
       "      <th>Status</th>\n",
       "      <th>Rename</th>\n",
       "      <th>Dimensions</th>\n",
       "      <th>KPIs</th>\n",
       "      <th>Other Terms</th>\n",
       "      <th>Filters</th>\n",
       "      <th>Tags</th>\n",
       "      <th>Priority</th>\n",
       "      <th>clean_text</th>\n",
       "    </tr>\n",
       "  </thead>\n",
       "  <tbody>\n",
       "    <tr>\n",
       "      <th>0</th>\n",
       "      <td>RPPBI0032</td>\n",
       "      <td>Feeder Market - 2024</td>\n",
       "      <td>Jonathan Shields</td>\n",
       "      <td>LifeReport.pbix</td>\n",
       "      <td>CRITERIA</td>\n",
       "      <td>Methodolody and definition of the algorithim o...</td>\n",
       "      <td>Informative</td>\n",
       "      <td>Productive</td>\n",
       "      <td>NaN</td>\n",
       "      <td>NaN</td>\n",
       "      <td>NaN</td>\n",
       "      <td>NaN</td>\n",
       "      <td>NaN</td>\n",
       "      <td>NaN</td>\n",
       "      <td>Priority 1</td>\n",
       "      <td>methodolody definition algorithim feed market</td>\n",
       "    </tr>\n",
       "    <tr>\n",
       "      <th>1</th>\n",
       "      <td>RPPBI0032</td>\n",
       "      <td>Feeder Market - 2024</td>\n",
       "      <td>Jonathan Shields</td>\n",
       "      <td>LifeReport.pbix</td>\n",
       "      <td>DESTINATION_OF_FEEDER_MARKETS</td>\n",
       "      <td>View focused on understand the performance by ...</td>\n",
       "      <td>Functional</td>\n",
       "      <td>Productive</td>\n",
       "      <td>NaN</td>\n",
       "      <td>Hotel, month, Feeder Market, Segment, Channel ...</td>\n",
       "      <td>Total Revenue, Room Revenue, RN, Lead Time, Le...</td>\n",
       "      <td>NaN</td>\n",
       "      <td>NaN</td>\n",
       "      <td>NaN</td>\n",
       "      <td>Priority 1</td>\n",
       "      <td>view focus understand performance hotel specif...</td>\n",
       "    </tr>\n",
       "  </tbody>\n",
       "</table>\n",
       "</div>"
      ],
      "text/plain": [
       "  ID Data Product           Report Name     Product Owner        PBIX_File  \\\n",
       "0       RPPBI0032  Feeder Market - 2024  Jonathan Shields  LifeReport.pbix   \n",
       "1       RPPBI0032  Feeder Market - 2024  Jonathan Shields  LifeReport.pbix   \n",
       "\n",
       "                     Report View  \\\n",
       "0                       CRITERIA   \n",
       "1  DESTINATION_OF_FEEDER_MARKETS   \n",
       "\n",
       "                                         Description     Category      Status  \\\n",
       "0  Methodolody and definition of the algorithim o...  Informative  Productive   \n",
       "1  View focused on understand the performance by ...   Functional  Productive   \n",
       "\n",
       "  Rename                                         Dimensions  \\\n",
       "0    NaN                                                NaN   \n",
       "1    NaN  Hotel, month, Feeder Market, Segment, Channel ...   \n",
       "\n",
       "                                                KPIs Other Terms Filters Tags  \\\n",
       "0                                                NaN         NaN     NaN  NaN   \n",
       "1  Total Revenue, Room Revenue, RN, Lead Time, Le...         NaN     NaN  NaN   \n",
       "\n",
       "     Priority                                         clean_text  \n",
       "0  Priority 1      methodolody definition algorithim feed market  \n",
       "1  Priority 1  view focus understand performance hotel specif...  "
      ]
     },
     "execution_count": 1,
     "metadata": {},
     "output_type": "execute_result"
    }
   ],
   "source": [
    "import pandas as pd\n",
    "import spacy\n",
    "from sklearn.feature_extraction.text import CountVectorizer\n",
    "from sklearn.decomposition import LatentDirichletAllocation\n",
    "from scipy.spatial.distance import jensenshannon\n",
    "import numpy as np\n",
    "\n",
    "# Load data\n",
    "df = pd.read_excel(\"../raw/Reporting_Inventory.xlsx\", sheet_name=\"Views\")\n",
    "\n",
    "# Clean text\n",
    "nlp = spacy.load(\"en_core_web_sm\")\n",
    "def preprocess(text):\n",
    "    doc = nlp(str(text).lower())\n",
    "    return \" \".join([\n",
    "        token.lemma_ for token in doc\n",
    "        if token.is_alpha and not token.is_stop and len(token) > 2\n",
    "    ])\n",
    "\n",
    "df[\"clean_text\"] = df[\"Description\"].apply(preprocess)\n",
    "df.head(2)"
   ]
  },
  {
   "cell_type": "code",
   "execution_count": 6,
   "id": "ad9f2e0a",
   "metadata": {},
   "outputs": [],
   "source": [
    "# Convert text to bag-of-words\n",
    "vectorizer = CountVectorizer(max_df=0.95, min_df=2)\n",
    "X = vectorizer.fit_transform(df[\"clean_text\"])\n",
    "\n",
    "# Train LDA\n",
    "lda = LatentDirichletAllocation(n_components=3, random_state=42)\n",
    "doc_topics = lda.fit_transform(X)\n"
   ]
  },
  {
   "cell_type": "code",
   "execution_count": 28,
   "id": "1aa09850",
   "metadata": {},
   "outputs": [],
   "source": [
    "def get_similar_views(doc_idx, top_n=3):\n",
    "    query_vec = doc_topics[doc_idx]\n",
    "    similarities = []\n",
    "\n",
    "    for i, vec in enumerate(doc_topics):\n",
    "        if i != doc_idx:\n",
    "            dist = jensenshannon(query_vec, vec, base=2)\n",
    "            sim = 1 - dist\n",
    "            similarities.append((i, sim))\n",
    "\n",
    "    # Evitar valores infinitos o nan por igualdad exacta\n",
    "    similarities = [(i, s, doc_topics[i] if not np.isnan(s) else 0.0) for i, s in similarities]\n",
    "\n",
    "    similarities.sort(key=lambda x: x[1], reverse=True)\n",
    "    return similarities[:top_n]"
   ]
  },
  {
   "cell_type": "code",
   "execution_count": 31,
   "id": "42ac4468",
   "metadata": {},
   "outputs": [
    {
     "name": "stdout",
     "output_type": "stream",
     "text": [
      "Report View: Channel Mix View [[0.94190054 0.02881268 0.02928678]]\n",
      "\n",
      "Most similar views:\n",
      "\n",
      "- Upselling (Similarity: 0.9978) [[0.94152291 0.02958134 0.02889575]])\n",
      "- Upselling (Similarity: 0.9978) [[0.94152291 0.02958134 0.02889575]])\n",
      "- COSTS (Similarity: 0.9950) [[0.94430447 0.02699633 0.0286992 ]])\n"
     ]
    }
   ],
   "source": [
    "# Supongamos que quieres buscar esta vista\n",
    "view_name = \"Channel Mix View\"\n",
    "\n",
    "# Buscar la primera coincidencia exacta en la columna \"Report View\"\n",
    "example_idx = df[df[\"Report View\"] == view_name].index[0]\n",
    "print(f\"Report View: {df.iloc[example_idx]['Report View']} [{doc_topics[example_idx]}]\")\n",
    "\n",
    "similar_views = get_similar_views(example_idx)\n",
    "print(\"\\nMost similar views:\\n\")\n",
    "for idx, score, vector in similar_views:\n",
    "    print(f\"- {df.iloc[idx]['Report View']} (Similarity: {score:.4f}) [{vector}])\")\n"
   ]
  },
  {
   "cell_type": "code",
   "execution_count": 17,
   "id": "e848817e",
   "metadata": {},
   "outputs": [],
   "source": [
    "# Optional: Save topic vectors for future use\n",
    "topic_df = pd.DataFrame(doc_topics, index=df[\"Report View\"])\n",
    "topic_df.to_csv(\"../models/report_views_topic_vectors.csv\")\n"
   ]
  }
 ],
 "metadata": {
  "kernelspec": {
   "display_name": ".venv",
   "language": "python",
   "name": "python3"
  },
  "language_info": {
   "codemirror_mode": {
    "name": "ipython",
    "version": 3
   },
   "file_extension": ".py",
   "mimetype": "text/x-python",
   "name": "python",
   "nbconvert_exporter": "python",
   "pygments_lexer": "ipython3",
   "version": "3.9.1"
  }
 },
 "nbformat": 4,
 "nbformat_minor": 5
}
