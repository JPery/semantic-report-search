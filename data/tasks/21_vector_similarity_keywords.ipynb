{
 "cells": [
  {
   "cell_type": "markdown",
   "id": "5bfd17f9",
   "metadata": {},
   "source": [
    "# Semantic Similarity Between Keywords Using Word Embeddings\n",
    "\n",
    "This notebook demonstrates how to:\n",
    "- Load keywords from `reports.csv`\n",
    "- Use `flair` to embed each keyword with static embeddings (e.g., GloVe)\n",
    "- Embed a user-defined query term\n",
    "- Compute cosine similarity and find the most semantically similar keywords"
   ]
  },
  {
   "cell_type": "code",
   "execution_count": 1,
   "id": "bdc45597",
   "metadata": {},
   "outputs": [],
   "source": [
    "# !pip install flair"
   ]
  },
  {
   "cell_type": "code",
   "execution_count": 2,
   "id": "785cc654",
   "metadata": {},
   "outputs": [],
   "source": [
    "import pandas as pd\n",
    "import numpy as np\n",
    "from pathlib import Path\n",
    "from flair.embeddings import WordEmbeddings\n",
    "from flair.data import Sentence\n",
    "from sklearn.metrics.pairwise import cosine_similarity"
   ]
  },
  {
   "cell_type": "markdown",
   "id": "cfdb453c",
   "metadata": {},
   "source": [
    "## Load and prepare keywords from reports.csv"
   ]
  },
  {
   "cell_type": "code",
   "execution_count": 13,
   "id": "4bff7b44",
   "metadata": {},
   "outputs": [
    {
     "name": "stdout",
     "output_type": "stream",
     "text": [
      "Loaded 1665 unique keywords.\n"
     ]
    }
   ],
   "source": [
    "# Load reports.csv and extract keywords\n",
    "reports_path = Path(\"../data/api/reports.csv\")\n",
    "df = pd.read_csv(reports_path).fillna(\"\")\n",
    "\n",
    "keywords = set()\n",
    "for kw_list in df[\"keywords\"]:\n",
    "    kws = [k.strip().lower() for k in kw_list.split(\",\") if k.strip()]\n",
    "    keywords.update(kws)\n",
    "keywords = sorted(keywords)\n",
    "print(f\"Loaded {len(keywords)} unique keywords.\")"
   ]
  },
  {
   "cell_type": "code",
   "execution_count": 18,
   "id": "c64c0735",
   "metadata": {},
   "outputs": [
    {
     "data": {
      "text/html": [
       "<div>\n",
       "<style scoped>\n",
       "    .dataframe tbody tr th:only-of-type {\n",
       "        vertical-align: middle;\n",
       "    }\n",
       "\n",
       "    .dataframe tbody tr th {\n",
       "        vertical-align: top;\n",
       "    }\n",
       "\n",
       "    .dataframe thead th {\n",
       "        text-align: right;\n",
       "    }\n",
       "</style>\n",
       "<table border=\"1\" class=\"dataframe\">\n",
       "  <thead>\n",
       "    <tr style=\"text-align: right;\">\n",
       "      <th></th>\n",
       "      <th>keyword</th>\n",
       "    </tr>\n",
       "  </thead>\n",
       "  <tbody>\n",
       "    <tr>\n",
       "      <th>0</th>\n",
       "      <td>\"tripadvisor</td>\n",
       "    </tr>\n",
       "    <tr>\n",
       "      <th>1</th>\n",
       "      <td>% offense</td>\n",
       "    </tr>\n",
       "    <tr>\n",
       "      <th>2</th>\n",
       "      <td>%share/channel</td>\n",
       "    </tr>\n",
       "    <tr>\n",
       "      <th>3</th>\n",
       "      <td>&amp; my</td>\n",
       "    </tr>\n",
       "    <tr>\n",
       "      <th>4</th>\n",
       "      <td>+ voice</td>\n",
       "    </tr>\n",
       "    <tr>\n",
       "      <th>5</th>\n",
       "      <td>120 day</td>\n",
       "    </tr>\n",
       "    <tr>\n",
       "      <th>6</th>\n",
       "      <td>2018</td>\n",
       "    </tr>\n",
       "    <tr>\n",
       "      <th>7</th>\n",
       "      <td>2019</td>\n",
       "    </tr>\n",
       "    <tr>\n",
       "      <th>8</th>\n",
       "      <td>2020</td>\n",
       "    </tr>\n",
       "    <tr>\n",
       "      <th>9</th>\n",
       "      <td>2021</td>\n",
       "    </tr>\n",
       "    <tr>\n",
       "      <th>10</th>\n",
       "      <td>2022</td>\n",
       "    </tr>\n",
       "    <tr>\n",
       "      <th>11</th>\n",
       "      <td>2023</td>\n",
       "    </tr>\n",
       "    <tr>\n",
       "      <th>12</th>\n",
       "      <td>2024</td>\n",
       "    </tr>\n",
       "    <tr>\n",
       "      <th>13</th>\n",
       "      <td>2024 quest</td>\n",
       "    </tr>\n",
       "    <tr>\n",
       "      <th>14</th>\n",
       "      <td>2025</td>\n",
       "    </tr>\n",
       "    <tr>\n",
       "      <th>15</th>\n",
       "      <td>2025 portfolios loading</td>\n",
       "    </tr>\n",
       "    <tr>\n",
       "      <th>16</th>\n",
       "      <td>2025 quest</td>\n",
       "    </tr>\n",
       "    <tr>\n",
       "      <th>17</th>\n",
       "      <td>2025 tab</td>\n",
       "    </tr>\n",
       "    <tr>\n",
       "      <th>18</th>\n",
       "      <td>365 day forward datum</td>\n",
       "    </tr>\n",
       "    <tr>\n",
       "      <th>19</th>\n",
       "      <td>90 day forward datum</td>\n",
       "    </tr>\n",
       "  </tbody>\n",
       "</table>\n",
       "</div>"
      ],
      "text/plain": [
       "                    keyword\n",
       "0              \"tripadvisor\n",
       "1                 % offense\n",
       "2            %share/channel\n",
       "3                      & my\n",
       "4                   + voice\n",
       "5                   120 day\n",
       "6                      2018\n",
       "7                      2019\n",
       "8                      2020\n",
       "9                      2021\n",
       "10                     2022\n",
       "11                     2023\n",
       "12                     2024\n",
       "13               2024 quest\n",
       "14                     2025\n",
       "15  2025 portfolios loading\n",
       "16               2025 quest\n",
       "17                 2025 tab\n",
       "18    365 day forward datum\n",
       "19     90 day forward datum"
      ]
     },
     "execution_count": 18,
     "metadata": {},
     "output_type": "execute_result"
    }
   ],
   "source": [
    "import pandas as pd\n",
    "\n",
    "# Convertir a DataFrame para visualización tabular\n",
    "keywords_df = pd.DataFrame(keywords, columns=[\"keyword\"])\n",
    "keywords_df.to_csv(\"../data/api/keywords_alphabetical.csv\", index=False)\n",
    "\n",
    "keywords_df.head(20)  # muestra las 20 primeras\n",
    "\n"
   ]
  },
  {
   "cell_type": "markdown",
   "id": "5255346b",
   "metadata": {},
   "source": [
    "## Load Word Embedding model\n",
    "\n",
    "https://flairnlp.github.io/docs/tutorial-embeddings/classic-word-embeddings"
   ]
  },
  {
   "cell_type": "code",
   "execution_count": 42,
   "id": "4f1adbbb",
   "metadata": {},
   "outputs": [
    {
     "name": "stdout",
     "output_type": "stream",
     "text": [
      "Embedding model loaded.\n"
     ]
    }
   ],
   "source": [
    "embedding = WordEmbeddings('en')  # Alternatives: 'en' (fasttex), 'en-glove'.\n",
    "print(\"Embedding model loaded.\")"
   ]
  },
  {
   "cell_type": "markdown",
   "id": "f341a0e1",
   "metadata": {},
   "source": [
    "## Embed each keyword and build a dictionary"
   ]
  },
  {
   "cell_type": "code",
   "execution_count": 43,
   "id": "93ae20e9",
   "metadata": {},
   "outputs": [
    {
     "name": "stdout",
     "output_type": "stream",
     "text": [
      "Embedded 1665 keywords.\n"
     ]
    }
   ],
   "source": [
    "keyword_vectors = {}\n",
    "for kw in keywords:\n",
    "    sentence = Sentence(kw, use_tokenizer=True)\n",
    "    embedding.embed(sentence)\n",
    "    if sentence:\n",
    "        # calculate a mean value between word embeddings (for keyphrases)\n",
    "        vector = np.mean([token.embedding.cpu().numpy() for token in sentence], axis=0)\n",
    "        keyword_vectors[kw] = vector        \n",
    "\n",
    "print(f\"Embedded {len(keyword_vectors)} keywords.\")"
   ]
  },
  {
   "cell_type": "markdown",
   "id": "1c8c98c7",
   "metadata": {},
   "source": [
    "## Search for keywords similar to a given query"
   ]
  },
  {
   "cell_type": "code",
   "execution_count": 44,
   "id": "ba6fa5ee",
   "metadata": {},
   "outputs": [
    {
     "name": "stdout",
     "output_type": "stream",
     "text": [
      "Top keywords similar to 'earnings':\n",
      "\n",
      "income: 0.7223\n",
      "revenue performance: 0.6793\n",
      "revenue forecast: 0.6475\n",
      "revenues: 0.6327\n",
      "cash expenses: 0.6320\n",
      "revenue: 0.6244\n",
      "sales payroll: 0.6233\n",
      "corporate sales: 0.6106\n",
      "revenue management: 0.6104\n",
      "the revenue management: 0.6080\n"
     ]
    }
   ],
   "source": [
    "query = \"earnings\"\n",
    "query_sentence = Sentence(query, use_tokenizer=True)\n",
    "embedding.embed(query_sentence)\n",
    "\n",
    "if query_sentence:\n",
    "    query_vector = np.mean([token.embedding.cpu().numpy() for token in query_sentence], axis=0).reshape(1, -1)\n",
    "    scores = {}\n",
    "    for kw, vec in keyword_vectors.items():\n",
    "        sim = cosine_similarity(query_vector, vec.reshape(1, -1))[0][0]\n",
    "        scores[kw] = sim\n",
    "\n",
    "    top_k = sorted(scores.items(), key=lambda x: x[1], reverse=True)[:10]\n",
    "    print(f\"Top keywords similar to '{query}':\\n\")\n",
    "    for kw, score in top_k:\n",
    "        print(f\"{kw}: {score:.4f}\")\n",
    "else:\n",
    "    print(f\"'{query}' could not be embedded.\")"
   ]
  }
 ],
 "metadata": {
  "finalized": {
   "timestamp": 1747803294064,
   "trusted": false
  },
  "kernelspec": {
   "display_name": "Python (semantic-analytic)",
   "language": "python",
   "name": "semantic-analytic-env"
  },
  "language_info": {
   "codemirror_mode": {
    "name": "ipython",
    "version": 3
   },
   "file_extension": ".py",
   "mimetype": "text/x-python",
   "name": "python",
   "nbconvert_exporter": "python",
   "pygments_lexer": "ipython3",
   "version": "3.9.16"
  }
 },
 "nbformat": 4,
 "nbformat_minor": 5
}
